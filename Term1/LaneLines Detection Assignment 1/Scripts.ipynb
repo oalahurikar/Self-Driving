{
 "cells": [
  {
   "cell_type": "code",
   "execution_count": null,
   "metadata": {
    "collapsed": true
   },
   "outputs": [],
   "source": [
    "def draw_lines(img, lines, color=[255, 0, 0], thickness=2):\n",
    "    \"\"\"\n",
    "    This function draws `lines` with `color` and `thickness`.    \n",
    "    \"\"\"\n",
    "    imshape = img.shape\n",
    "    \n",
    "    # these variables represent the y-axis coordinates to which the line will be extrapolated to\n",
    "    ymin_global = img.shape[0]\n",
    "    ymax_global = img.shape[0]\n",
    "    \n",
    "    # left lane line variables\n",
    "    all_left_grad = []\n",
    "    all_left_y = []\n",
    "    all_left_x = []\n",
    "    \n",
    "    # right lane line variables\n",
    "    all_right_grad = []\n",
    "    all_right_y = []\n",
    "    all_right_x = []\n",
    "    \n",
    "    for line in lines:\n",
    "        for x1,y1,x2,y2 in line:\n",
    "            gradient, intercept = np.polyfit((x1,x2), (y1,y2), 1)\n",
    "            ymin_global = min(min(y1, y2), ymin_global)\n",
    "            \n",
    "            if (gradient > 0):\n",
    "                all_left_grad += [gradient]\n",
    "                all_left_y += [y1, y2]\n",
    "                all_left_x += [x1, x2]\n",
    "            else:\n",
    "                all_right_grad += [gradient]\n",
    "                all_right_y += [y1, y2]\n",
    "                all_right_x += [x1, x2]\n",
    "    \n",
    "    left_mean_grad = np.mean(all_left_grad)\n",
    "    left_y_mean = np.mean(all_left_y)\n",
    "    left_x_mean = np.mean(all_left_x)\n",
    "    left_intercept = left_y_mean - (left_mean_grad * left_x_mean)\n",
    "    \n",
    "    right_mean_grad = np.mean(all_right_grad)\n",
    "    right_y_mean = np.mean(all_right_y)\n",
    "    right_x_mean = np.mean(all_right_x)\n",
    "    right_intercept = right_y_mean - (right_mean_grad * right_x_mean)\n",
    "    \n",
    "    # Make sure we have some points in each lane line category\n",
    "    if ((len(all_left_grad) > 0) and (len(all_right_grad) > 0)):\n",
    "        upper_left_x = int((ymin_global - left_intercept) / left_mean_grad)\n",
    "        lower_left_x = int((ymax_global - left_intercept) / left_mean_grad)\n",
    "        upper_right_x = int((ymin_global - right_intercept) / right_mean_grad)\n",
    "        lower_right_x = int((ymax_global - right_intercept) / right_mean_grad)\n",
    "\n",
    "        cv2.line(img, (upper_left_x, ymin_global), (lower_left_x, ymax_global), color, thickness)\n",
    "        cv2.line(img, (upper_right_x, ymin_global), (lower_right_x, ymax_global), color, thickness)"
   ]
  }
 ],
 "metadata": {
  "anaconda-cloud": {},
  "kernelspec": {
   "display_name": "Python [conda env:deeplearning]",
   "language": "python",
   "name": "conda-env-deeplearning-py"
  },
  "language_info": {
   "codemirror_mode": {
    "name": "ipython",
    "version": 3
   },
   "file_extension": ".py",
   "mimetype": "text/x-python",
   "name": "python",
   "nbconvert_exporter": "python",
   "pygments_lexer": "ipython3",
   "version": "3.5.2"
  }
 },
 "nbformat": 4,
 "nbformat_minor": 1
}
