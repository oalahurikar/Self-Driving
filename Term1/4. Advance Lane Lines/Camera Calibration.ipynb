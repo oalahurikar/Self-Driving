{
 "cells": [
  {
   "cell_type": "markdown",
   "metadata": {
    "collapsed": true
   },
   "source": [
    "The goals / steps of this project are the following:\n",
    "\n",
    "-Compute the camera calibration matrix and distortion coefficients given a set of chessboard images.\n",
    "-Apply a distortion correction to raw images."
   ]
  },
  {
   "cell_type": "code",
   "execution_count": 1,
   "metadata": {},
   "outputs": [
    {
     "name": "stdout",
     "output_type": "stream",
     "text": [
      "20\n"
     ]
    }
   ],
   "source": [
    "import numpy as np\n",
    "import cv2\n",
    "import glob\n",
    "import matplotlib.pyplot as plt\n",
    "#%matplotlib qt\n",
    "\n",
    "# Make a list of calibration images\n",
    "images = glob.glob('camera_cal/calibration*.jpg')\n",
    "print(len(images))\n",
    "\n",
    "# Arrays to store object points and image points from all the images.\n",
    "objpoints = [] # 3d points in real world space, Flat Image plane\n",
    "imgpoints = [] # 2d points in image plane. Distorted Image\n",
    "# Step through the list and search for chessboard corners\n",
    "for ny in [5,6]:\n",
    "    for nx in [6,7,8,9]:\n",
    "        # prepare object points, like (0,0,0), (1,0,0), (2,0,0) ....,(6,5,0)\n",
    "        objp = np.zeros((nx*ny,3), np.float32)\n",
    "        objp[:,:2] = np.mgrid[0:nx, 0:ny].T.reshape(-1,2) # mgrid returns x-y coordinate values\n",
    "        for idx, fname in enumerate(images):\n",
    "            img = cv2.imread(fname)\n",
    "            gray = cv2.cvtColor(img, cv2.COLOR_BGR2GRAY)\n",
    "\n",
    "            # Find the chessboard corners\n",
    "            ret, corners = cv2.findChessboardCorners(gray, (nx,ny), None)\n",
    "\n",
    "            # If corner found, add object points, image points\n",
    "            if ret == True:\n",
    "                objpoints.append(objp) # Object points are same for all calibrations images\n",
    "                imgpoints.append(corners)\n",
    "\n",
    "                # Draw and display the corners\n",
    "                cv2.drawChessboardCorners(img, (nx,ny), corners, ret)\n",
    "                cv2.imshow('img', img)\n",
    "                cv2.waitKey(500)\n",
    "\n",
    "cv2.destroyAllWindows()"
   ]
  },
  {
   "cell_type": "code",
   "execution_count": 2,
   "metadata": {
    "collapsed": true
   },
   "outputs": [],
   "source": [
    "import pickle\n",
    "%matplotlib inline\n",
    "fname = 'camera_cal/calibration{}.jpg'.format(2)\n",
    "# Test undistortion on an image\n",
    "img = cv2.imread(fname)\n",
    "img_size = (img.shape[1], img.shape[0]) # Shape of Image\n",
    "\n",
    "# Do camera calibration given object points and image points\n",
    "#dist: Distortion coeifficient\n",
    "#mtx: Camera matrix need to transform 3d object points into 2d image points\n",
    "#rvecs & tvecs: Position of Camera in the world\n",
    "ret, mtx, dist, rvecs, tvecs = cv2.calibrateCamera(objpoints, imgpoints, img_size,None,None)\n",
    "\n",
    "# Save the camera calibration result for later use (we won't worry about rvecs / tvecs)\n",
    "dist_pickle = {}\n",
    "dist_pickle[\"mtx\"] = mtx\n",
    "dist_pickle[\"dist\"] = dist\n",
    "pickle.dump( dist_pickle, open( \"Undistorted_img/calibration_undistorted_pickle.p\", \"wb\" ) )\n"
   ]
  }
 ],
 "metadata": {
  "kernelspec": {
   "display_name": "imagescraper",
   "language": "python",
   "name": "imagescraper"
  },
  "language_info": {
   "codemirror_mode": {
    "name": "ipython",
    "version": 3
   },
   "file_extension": ".py",
   "mimetype": "text/x-python",
   "name": "python",
   "nbconvert_exporter": "python",
   "pygments_lexer": "ipython3",
   "version": "3.5.3"
  }
 },
 "nbformat": 4,
 "nbformat_minor": 2
}
